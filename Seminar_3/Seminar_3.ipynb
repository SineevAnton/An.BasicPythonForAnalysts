{
 "cells": [
  {
   "cell_type": "markdown",
   "source": [
    "# Урок 3. Изменение таблиц в Pandas\n",
    " ___"
   ],
   "metadata": {
    "collapsed": false
   }
  },
  {
   "cell_type": "markdown",
   "source": [
    "Описание данных:\n",
    "id - unique identified for a house\n",
    "dateDate - house was sold\n",
    "pricePrice - is prediction target\n",
    "bedroomsNumber - of Bedrooms/House\n",
    "bathroomsNumber - of bathrooms/bedrooms\n",
    "sqft_livingsquare - footage of the home\n",
    "sqft_lotsquare - footage of the lot\n",
    "floorsTotal - floors (levels) in house\n",
    "waterfront - House which has a view to a waterfront\n",
    "view - Has been viewed\n",
    "condition - How good the condition is ( Overall )\n",
    "grade - overall grade given to the housing unit, based on King County grading system\n",
    "sqft_above - square footage of house apart from basement\n",
    "sqft_basement - square footage of the basement\n",
    "yr_built - Built Year\n",
    "yr_renovated - Year when house was renovated\n",
    "zipcode - zip\n",
    "lat - Latitude coordinate\n",
    "long - Longitude coordinate\n",
    "sqft_living15 - The square footage of interior housing living space for the nearest 15 neighbors\n",
    "sqft_lot15 - The square footage of the land lots of the nearest 15 neighbors"
   ],
   "metadata": {
    "collapsed": false
   }
  },
  {
   "cell_type": "code",
   "execution_count": 1,
   "outputs": [],
   "source": [
    "import pandas as pd\n",
    "import datetime as dt"
   ],
   "metadata": {
    "collapsed": false
   }
  },
  {
   "cell_type": "markdown",
   "source": [
    "## Условие 1: Задача 1\n",
    "___\n",
    "Скачать данные по ссылке https://drive.google.com/file/d/1Ep9ncT58xJ059I3hDeX2YuJTq4advJTT/view\n",
    "Считать данные с помощью pandas\n",
    "Вывести на экран первые 5 строк\n",
    "1.2 Создать новый признак delta_renovated, который будет содержать разницу в годах между годом реновацией дома и годом постройки дома\n",
    "Если реновации дома не было, то в новом признаке поставьте 0\n",
    "1.3 Создайте признаки года продажи, месяца продажи\n",
    "1.4 Удалите признаки date, zipcode, lat, long"
   ],
   "metadata": {
    "collapsed": false
   }
  },
  {
   "cell_type": "code",
   "execution_count": 2,
   "outputs": [],
   "source": [
    "# Считать данные с помощью pandas\n",
    "kc_house_data = pd.read_csv('kc-house-data.csv', encoding='utf-8')"
   ],
   "metadata": {
    "collapsed": false
   }
  },
  {
   "cell_type": "code",
   "execution_count": 3,
   "outputs": [
    {
     "data": {
      "text/plain": "           id             date     price  bedrooms  bathrooms  sqft_living  \\\n0  7129300520  20141013T000000  221900.0         3       1.00         1180   \n1  6414100192  20141209T000000  538000.0         3       2.25         2570   \n2  5631500400  20150225T000000  180000.0         2       1.00          770   \n3  2487200875  20141209T000000  604000.0         4       3.00         1960   \n4  1954400510  20150218T000000  510000.0         3       2.00         1680   \n\n   sqft_lot  floors  waterfront  view  ...  grade  sqft_above  sqft_basement  \\\n0      5650     1.0           0     0  ...      7        1180              0   \n1      7242     2.0           0     0  ...      7        2170            400   \n2     10000     1.0           0     0  ...      6         770              0   \n3      5000     1.0           0     0  ...      7        1050            910   \n4      8080     1.0           0     0  ...      8        1680              0   \n\n   yr_built  yr_renovated  zipcode      lat     long  sqft_living15  \\\n0      1955             0    98178  47.5112 -122.257           1340   \n1      1951          1991    98125  47.7210 -122.319           1690   \n2      1933             0    98028  47.7379 -122.233           2720   \n3      1965             0    98136  47.5208 -122.393           1360   \n4      1987             0    98074  47.6168 -122.045           1800   \n\n   sqft_lot15  \n0        5650  \n1        7639  \n2        8062  \n3        5000  \n4        7503  \n\n[5 rows x 21 columns]",
      "text/html": "<div>\n<style scoped>\n    .dataframe tbody tr th:only-of-type {\n        vertical-align: middle;\n    }\n\n    .dataframe tbody tr th {\n        vertical-align: top;\n    }\n\n    .dataframe thead th {\n        text-align: right;\n    }\n</style>\n<table border=\"1\" class=\"dataframe\">\n  <thead>\n    <tr style=\"text-align: right;\">\n      <th></th>\n      <th>id</th>\n      <th>date</th>\n      <th>price</th>\n      <th>bedrooms</th>\n      <th>bathrooms</th>\n      <th>sqft_living</th>\n      <th>sqft_lot</th>\n      <th>floors</th>\n      <th>waterfront</th>\n      <th>view</th>\n      <th>...</th>\n      <th>grade</th>\n      <th>sqft_above</th>\n      <th>sqft_basement</th>\n      <th>yr_built</th>\n      <th>yr_renovated</th>\n      <th>zipcode</th>\n      <th>lat</th>\n      <th>long</th>\n      <th>sqft_living15</th>\n      <th>sqft_lot15</th>\n    </tr>\n  </thead>\n  <tbody>\n    <tr>\n      <th>0</th>\n      <td>7129300520</td>\n      <td>20141013T000000</td>\n      <td>221900.0</td>\n      <td>3</td>\n      <td>1.00</td>\n      <td>1180</td>\n      <td>5650</td>\n      <td>1.0</td>\n      <td>0</td>\n      <td>0</td>\n      <td>...</td>\n      <td>7</td>\n      <td>1180</td>\n      <td>0</td>\n      <td>1955</td>\n      <td>0</td>\n      <td>98178</td>\n      <td>47.5112</td>\n      <td>-122.257</td>\n      <td>1340</td>\n      <td>5650</td>\n    </tr>\n    <tr>\n      <th>1</th>\n      <td>6414100192</td>\n      <td>20141209T000000</td>\n      <td>538000.0</td>\n      <td>3</td>\n      <td>2.25</td>\n      <td>2570</td>\n      <td>7242</td>\n      <td>2.0</td>\n      <td>0</td>\n      <td>0</td>\n      <td>...</td>\n      <td>7</td>\n      <td>2170</td>\n      <td>400</td>\n      <td>1951</td>\n      <td>1991</td>\n      <td>98125</td>\n      <td>47.7210</td>\n      <td>-122.319</td>\n      <td>1690</td>\n      <td>7639</td>\n    </tr>\n    <tr>\n      <th>2</th>\n      <td>5631500400</td>\n      <td>20150225T000000</td>\n      <td>180000.0</td>\n      <td>2</td>\n      <td>1.00</td>\n      <td>770</td>\n      <td>10000</td>\n      <td>1.0</td>\n      <td>0</td>\n      <td>0</td>\n      <td>...</td>\n      <td>6</td>\n      <td>770</td>\n      <td>0</td>\n      <td>1933</td>\n      <td>0</td>\n      <td>98028</td>\n      <td>47.7379</td>\n      <td>-122.233</td>\n      <td>2720</td>\n      <td>8062</td>\n    </tr>\n    <tr>\n      <th>3</th>\n      <td>2487200875</td>\n      <td>20141209T000000</td>\n      <td>604000.0</td>\n      <td>4</td>\n      <td>3.00</td>\n      <td>1960</td>\n      <td>5000</td>\n      <td>1.0</td>\n      <td>0</td>\n      <td>0</td>\n      <td>...</td>\n      <td>7</td>\n      <td>1050</td>\n      <td>910</td>\n      <td>1965</td>\n      <td>0</td>\n      <td>98136</td>\n      <td>47.5208</td>\n      <td>-122.393</td>\n      <td>1360</td>\n      <td>5000</td>\n    </tr>\n    <tr>\n      <th>4</th>\n      <td>1954400510</td>\n      <td>20150218T000000</td>\n      <td>510000.0</td>\n      <td>3</td>\n      <td>2.00</td>\n      <td>1680</td>\n      <td>8080</td>\n      <td>1.0</td>\n      <td>0</td>\n      <td>0</td>\n      <td>...</td>\n      <td>8</td>\n      <td>1680</td>\n      <td>0</td>\n      <td>1987</td>\n      <td>0</td>\n      <td>98074</td>\n      <td>47.6168</td>\n      <td>-122.045</td>\n      <td>1800</td>\n      <td>7503</td>\n    </tr>\n  </tbody>\n</table>\n<p>5 rows × 21 columns</p>\n</div>"
     },
     "execution_count": 3,
     "metadata": {},
     "output_type": "execute_result"
    }
   ],
   "source": [
    "# Вывести на экран первые 5 строк\n",
    "kc_house_data.head()"
   ],
   "metadata": {
    "collapsed": false
   }
  },
  {
   "cell_type": "code",
   "execution_count": 4,
   "outputs": [
    {
     "name": "stdout",
     "output_type": "stream",
     "text": [
      "<class 'pandas.core.frame.DataFrame'>\n",
      "RangeIndex: 21613 entries, 0 to 21612\n",
      "Data columns (total 21 columns):\n",
      " #   Column         Non-Null Count  Dtype  \n",
      "---  ------         --------------  -----  \n",
      " 0   id             21613 non-null  int64  \n",
      " 1   date           21613 non-null  object \n",
      " 2   price          21613 non-null  float64\n",
      " 3   bedrooms       21613 non-null  int64  \n",
      " 4   bathrooms      21613 non-null  float64\n",
      " 5   sqft_living    21613 non-null  int64  \n",
      " 6   sqft_lot       21613 non-null  int64  \n",
      " 7   floors         21613 non-null  float64\n",
      " 8   waterfront     21613 non-null  int64  \n",
      " 9   view           21613 non-null  int64  \n",
      " 10  condition      21613 non-null  int64  \n",
      " 11  grade          21613 non-null  int64  \n",
      " 12  sqft_above     21613 non-null  int64  \n",
      " 13  sqft_basement  21613 non-null  int64  \n",
      " 14  yr_built       21613 non-null  int64  \n",
      " 15  yr_renovated   21613 non-null  int64  \n",
      " 16  zipcode        21613 non-null  int64  \n",
      " 17  lat            21613 non-null  float64\n",
      " 18  long           21613 non-null  float64\n",
      " 19  sqft_living15  21613 non-null  int64  \n",
      " 20  sqft_lot15     21613 non-null  int64  \n",
      "dtypes: float64(5), int64(15), object(1)\n",
      "memory usage: 3.5+ MB\n"
     ]
    }
   ],
   "source": [
    "kc_house_data.info()"
   ],
   "metadata": {
    "collapsed": false
   }
  },
  {
   "cell_type": "code",
   "execution_count": 5,
   "outputs": [],
   "source": [
    "# 1.2 Создать новый признак delta_renovated, который будет содержать разницу в годах между годом реновацией дома и годом постройки дома Если реновации дома не было, то в новом признаке поставьте 0\n"
   ],
   "metadata": {
    "collapsed": false
   }
  },
  {
   "cell_type": "code",
   "execution_count": 6,
   "outputs": [],
   "source": [
    "def check_renovate(row: pd.Series) -> int:\n",
    "    \"\"\"\n",
    "    Функция для определения прошедшего времени между ремонтом здания и его годом постройки\n",
    "    :param row: Строка данных (Series) из которой получаем нужные нам даты\n",
    "    :return: 0, если ремонта не было, иначе прошедшее от строительства до ремонта время, в годах.\n",
    "    \"\"\"\n",
    "    if row['yr_renovated'] == 0:\n",
    "        return 0\n",
    "    else:\n",
    "        return row['yr_renovated'] - row['yr_built']"
   ],
   "metadata": {
    "collapsed": false
   }
  },
  {
   "cell_type": "code",
   "execution_count": 7,
   "outputs": [],
   "source": [
    "kc_house_data['delta_renovated'] = kc_house_data.apply(check_renovate, axis=1)"
   ],
   "metadata": {
    "collapsed": false
   }
  },
  {
   "cell_type": "code",
   "execution_count": 8,
   "outputs": [
    {
     "data": {
      "text/plain": "       yr_renovated  yr_built  delta_renovated\n5431              0      1989                0\n8000              0      1954                0\n7299              0      1901                0\n9393              0      1976                0\n7152              0      1957                0\n2242              0      2006                0\n14400             0      1968                0\n1778              0      1969                0\n11629             0      1955                0\n10163             0      1964                0",
      "text/html": "<div>\n<style scoped>\n    .dataframe tbody tr th:only-of-type {\n        vertical-align: middle;\n    }\n\n    .dataframe tbody tr th {\n        vertical-align: top;\n    }\n\n    .dataframe thead th {\n        text-align: right;\n    }\n</style>\n<table border=\"1\" class=\"dataframe\">\n  <thead>\n    <tr style=\"text-align: right;\">\n      <th></th>\n      <th>yr_renovated</th>\n      <th>yr_built</th>\n      <th>delta_renovated</th>\n    </tr>\n  </thead>\n  <tbody>\n    <tr>\n      <th>5431</th>\n      <td>0</td>\n      <td>1989</td>\n      <td>0</td>\n    </tr>\n    <tr>\n      <th>8000</th>\n      <td>0</td>\n      <td>1954</td>\n      <td>0</td>\n    </tr>\n    <tr>\n      <th>7299</th>\n      <td>0</td>\n      <td>1901</td>\n      <td>0</td>\n    </tr>\n    <tr>\n      <th>9393</th>\n      <td>0</td>\n      <td>1976</td>\n      <td>0</td>\n    </tr>\n    <tr>\n      <th>7152</th>\n      <td>0</td>\n      <td>1957</td>\n      <td>0</td>\n    </tr>\n    <tr>\n      <th>2242</th>\n      <td>0</td>\n      <td>2006</td>\n      <td>0</td>\n    </tr>\n    <tr>\n      <th>14400</th>\n      <td>0</td>\n      <td>1968</td>\n      <td>0</td>\n    </tr>\n    <tr>\n      <th>1778</th>\n      <td>0</td>\n      <td>1969</td>\n      <td>0</td>\n    </tr>\n    <tr>\n      <th>11629</th>\n      <td>0</td>\n      <td>1955</td>\n      <td>0</td>\n    </tr>\n    <tr>\n      <th>10163</th>\n      <td>0</td>\n      <td>1964</td>\n      <td>0</td>\n    </tr>\n  </tbody>\n</table>\n</div>"
     },
     "execution_count": 8,
     "metadata": {},
     "output_type": "execute_result"
    }
   ],
   "source": [
    "kc_house_data[['yr_renovated', 'yr_built', 'delta_renovated']].sample(10)"
   ],
   "metadata": {
    "collapsed": false
   }
  },
  {
   "cell_type": "code",
   "execution_count": 9,
   "outputs": [
    {
     "data": {
      "text/plain": "              date sell year sell month\n0  20141013T000000      2014         10\n1  20141209T000000      2014         12\n2  20150225T000000      2015         02\n3  20141209T000000      2014         12\n4  20150218T000000      2015         02",
      "text/html": "<div>\n<style scoped>\n    .dataframe tbody tr th:only-of-type {\n        vertical-align: middle;\n    }\n\n    .dataframe tbody tr th {\n        vertical-align: top;\n    }\n\n    .dataframe thead th {\n        text-align: right;\n    }\n</style>\n<table border=\"1\" class=\"dataframe\">\n  <thead>\n    <tr style=\"text-align: right;\">\n      <th></th>\n      <th>date</th>\n      <th>sell year</th>\n      <th>sell month</th>\n    </tr>\n  </thead>\n  <tbody>\n    <tr>\n      <th>0</th>\n      <td>20141013T000000</td>\n      <td>2014</td>\n      <td>10</td>\n    </tr>\n    <tr>\n      <th>1</th>\n      <td>20141209T000000</td>\n      <td>2014</td>\n      <td>12</td>\n    </tr>\n    <tr>\n      <th>2</th>\n      <td>20150225T000000</td>\n      <td>2015</td>\n      <td>02</td>\n    </tr>\n    <tr>\n      <th>3</th>\n      <td>20141209T000000</td>\n      <td>2014</td>\n      <td>12</td>\n    </tr>\n    <tr>\n      <th>4</th>\n      <td>20150218T000000</td>\n      <td>2015</td>\n      <td>02</td>\n    </tr>\n  </tbody>\n</table>\n</div>"
     },
     "execution_count": 9,
     "metadata": {},
     "output_type": "execute_result"
    }
   ],
   "source": [
    "# 1.3 Создайте признаки года продажи, месяца продажи\n",
    "kc_house_data['sell year'] = kc_house_data['date'].apply(lambda x: x[:4])\n",
    "kc_house_data['sell month'] = kc_house_data['date'].apply(lambda x: x[4:6])\n",
    "kc_house_data[['date', 'sell year', 'sell month']].head()"
   ],
   "metadata": {
    "collapsed": false
   }
  },
  {
   "cell_type": "markdown",
   "source": [
    "Альтернативный вариант с переводом признака \"date\" в тип datetime:"
   ],
   "metadata": {
    "collapsed": false
   }
  },
  {
   "cell_type": "code",
   "execution_count": 10,
   "outputs": [],
   "source": [
    "# kc_house_data['date'] = kc_house_data['date'].apply(lambda x: dt.datetime.strptime(x, '%Y%m%dT%H%M%S'))"
   ],
   "metadata": {
    "collapsed": false
   }
  },
  {
   "cell_type": "code",
   "execution_count": 11,
   "outputs": [],
   "source": [
    "# kc_house_data['date'][1].year"
   ],
   "metadata": {
    "collapsed": false
   }
  },
  {
   "cell_type": "code",
   "execution_count": 12,
   "outputs": [
    {
     "data": {
      "text/plain": "Index(['id', 'price', 'bedrooms', 'bathrooms', 'sqft_living', 'sqft_lot',\n       'floors', 'waterfront', 'view', 'condition', 'grade', 'sqft_above',\n       'sqft_basement', 'yr_built', 'yr_renovated', 'sqft_living15',\n       'sqft_lot15', 'delta_renovated', 'sell year', 'sell month'],\n      dtype='object')"
     },
     "execution_count": 12,
     "metadata": {},
     "output_type": "execute_result"
    }
   ],
   "source": [
    "# 1.4 Удалите признаки date, zipcode, lat, long\n",
    "kc_house_data.drop(['date', 'zipcode', 'lat', 'long'], axis=1, inplace=True)\n",
    "kc_house_data.columns"
   ],
   "metadata": {
    "collapsed": false
   }
  },
  {
   "cell_type": "markdown",
   "source": [
    "## Условие 2: 2 задача\n",
    "___\n",
    "Создайте датафрейм с клиентами:\n",
    "clients = pd.DataFrame({\n",
    "'client_id': [1459, 4684, 3498, 3942, 4535, 2308, 2866, 2765, 1472, 4236, 2295,\n",
    "939, 3840, 280, 20, 4332, 3475, 4213, 3113, 4809, 2134, 2242,\n",
    "2068, 4929, 1384, 1589, 3317, 2260, 1727, 1764, 1611, 1474],\n",
    "'house_id': [8965450190, 6823100225, 5104540330, 2131701075, 1522700060,\n",
    "1189000207, 6821600300, 7137950720, 9510920050, 6131600255,\n",
    "5428000070, 1788800910, 8100400160, 3123049142, 6306800010,\n",
    "5083000375, 7920100025, 1951600150, 809001400, 339600110,\n",
    "1622049154, 1099600250, 8563000110, 2768100205, 3995700435,\n",
    "8861700030, 3303980210, 7731100066, 8146100580, 825069097,\n",
    "3889100029, 9524100196]\n",
    "})\n",
    "2.1 Присоедините к таблице clients данные по домам через метод join\n",
    "2.2 Присоедините к таблице clients данные по домам через метод merge\n",
    "Это нужно, чтобы понимать, какие дома покупались клиентами\n",
    "house_id - это индексы датафрейма с домами"
   ],
   "metadata": {
    "collapsed": false
   }
  },
  {
   "cell_type": "code",
   "execution_count": 13,
   "outputs": [
    {
     "data": {
      "text/plain": "   client_id    house_id\n0       1459  8965450190\n1       4684  6823100225\n2       3498  5104540330\n3       3942  2131701075\n4       4535  1522700060",
      "text/html": "<div>\n<style scoped>\n    .dataframe tbody tr th:only-of-type {\n        vertical-align: middle;\n    }\n\n    .dataframe tbody tr th {\n        vertical-align: top;\n    }\n\n    .dataframe thead th {\n        text-align: right;\n    }\n</style>\n<table border=\"1\" class=\"dataframe\">\n  <thead>\n    <tr style=\"text-align: right;\">\n      <th></th>\n      <th>client_id</th>\n      <th>house_id</th>\n    </tr>\n  </thead>\n  <tbody>\n    <tr>\n      <th>0</th>\n      <td>1459</td>\n      <td>8965450190</td>\n    </tr>\n    <tr>\n      <th>1</th>\n      <td>4684</td>\n      <td>6823100225</td>\n    </tr>\n    <tr>\n      <th>2</th>\n      <td>3498</td>\n      <td>5104540330</td>\n    </tr>\n    <tr>\n      <th>3</th>\n      <td>3942</td>\n      <td>2131701075</td>\n    </tr>\n    <tr>\n      <th>4</th>\n      <td>4535</td>\n      <td>1522700060</td>\n    </tr>\n  </tbody>\n</table>\n</div>"
     },
     "execution_count": 13,
     "metadata": {},
     "output_type": "execute_result"
    }
   ],
   "source": [
    "clients = pd.DataFrame({'client_id': [1459, 4684, 3498, 3942, 4535, 2308, 2866, 2765, 1472, 4236, 2295, 939, 3840, 280, 20, 4332, 3475, 4213, 3113, 4809, 2134, 2242, 2068, 4929, 1384, 1589, 3317, 2260, 1727, 1764, 1611, 1474], 'house_id': [8965450190, 6823100225, 5104540330, 2131701075, 1522700060, 1189000207, 6821600300, 7137950720, 9510920050, 6131600255, 5428000070, 1788800910, 8100400160, 3123049142, 6306800010, 5083000375, 7920100025, 1951600150, 809001400, 339600110, 1622049154, 1099600250, 8563000110, 2768100205, 3995700435, 8861700030, 3303980210, 7731100066, 8146100580, 825069097, 3889100029, 9524100196]})\n",
    "clients.head()"
   ],
   "metadata": {
    "collapsed": false
   }
  },
  {
   "cell_type": "code",
   "execution_count": 14,
   "outputs": [
    {
     "data": {
      "text/plain": "    client_id    house_id      price  bedrooms  bathrooms  sqft_living  \\\n0        1459  8965450190   295000.0         3       2.50         1500   \n1        4684  6823100225   700000.0         4       1.75         1870   \n2        3498  5104540330   679000.0         4       2.50         3680   \n3        3942  2131701075   420000.0         3       1.75         1720   \n4        4535  1522700060   518000.0         4       2.75         2520   \n5        2308  1189000207   387000.0         2       2.50         1170   \n6        2866  6821600300   886000.0         3       2.25         2380   \n7        2765  7137950720   339100.0         4       2.50         2350   \n8        1472  9510920050   725000.0         3       2.50         2980   \n9        4236  6131600255   202500.0         3       2.00         1540   \n10       2295  5428000070   770000.0         5       3.50         4750   \n11        939  1788800910   190000.0         3       1.00         1200   \n12       3840  8100400160   700000.0         3       2.25         2330   \n13        280  3123049142   452000.0         3       2.25         2600   \n14         20  6306800010   436472.0         4       2.50         2692   \n15       4332  5083000375   170000.0         3       1.00         1310   \n15       4332  5083000375   235000.0         3       1.00         1310   \n16       3475  7920100025   450000.0         2       1.00          740   \n17       4213  1951600150   180000.0         3       1.00         1610   \n18       3113   809001400   925000.0         3       1.00         1630   \n19       4809   339600110   395000.0         3       2.50         1610   \n20       2134  1622049154   289900.0         3       1.75         1899   \n21       2242  1099600250   260000.0         3       1.75         1710   \n22       2068  8563000110   427000.0         4       1.75         1460   \n23       4929  2768100205   519000.0         4       2.50         1950   \n24       1384  3995700435   265000.0         4       3.00         1940   \n25       1589  8861700030   510000.0         3       1.50         2400   \n26       3317  3303980210  1115000.0         4       3.75         4040   \n27       2260  7731100066   545000.0         3       1.00         1510   \n28       1727  8146100580   765000.0         3       1.00         1220   \n29       1764   825069097   770000.0         3       2.50         2650   \n30       1611  3889100029   810000.0         3       2.50         2670   \n31       1474  9524100196   239000.0         2       1.50          680   \n\n    sqft_lot  floors  waterfront  view  ...  grade  sqft_above  sqft_basement  \\\n0       3060     2.0           0     0  ...      7        1500              0   \n1       6000     1.0           0     0  ...      8        1670            200   \n2       7236     2.0           0     0  ...     10        3680              0   \n3       5000     1.5           0     0  ...      8        1720              0   \n4      14021     2.0           0     0  ...      9        2520              0   \n5       1394     2.0           0     0  ...      8        1170              0   \n6       6000     2.0           0     0  ...      9        1650            730   \n7      10655     2.0           0     0  ...      8        2350              0   \n8      16996     2.0           0     0  ...     10        2980              0   \n9       8316     1.0           0     0  ...      6        1540              0   \n10      8234     2.0           0     2  ...     10        3350           1400   \n11     10458     1.0           0     0  ...      6        1200              0   \n12     11424     2.0           0     0  ...      8        2330              0   \n13     14810     1.0           0     2  ...      8        1490           1110   \n14      8392     2.0           0     0  ...      9        2692              0   \n15      9529     1.0           0     0  ...      7        1310              0   \n15      9529     1.0           0     0  ...      7        1310              0   \n16      5100     1.0           0     0  ...      7         740              0   \n17      8500     1.5           0     0  ...      7        1610              0   \n18      3200     1.5           0     0  ...      8        1630              0   \n19      3755     2.0           0     0  ...      7        1610              0   \n20     11325     2.0           0     0  ...      7        1899              0   \n21      6400     1.0           0     0  ...      7        1240            470   \n22      9750     1.0           0     0  ...      7        1460              0   \n23      2617     1.5           0     0  ...      7        1250            700   \n24      8170     1.0           0     0  ...      7        1940              0   \n25     10275     1.0           0     0  ...      8        1540            860   \n26     14212     2.0           0     0  ...     11        4040              0   \n27      5000     1.5           0     0  ...      7        1510              0   \n28      7585     1.0           0     0  ...      7        1220              0   \n29     40705     2.0           0     0  ...      9        2650              0   \n30     10481     2.0           0     0  ...      9        2670              0   \n31       772     2.0           0     0  ...      7         680              0   \n\n    yr_built  yr_renovated  sqft_living15  sqft_lot15  delta_renovated  \\\n0       1994             0           2700        7734                0   \n1       1949             0           1710        6000                0   \n2       2006             0           3310        7180                0   \n3       1932          2009           1410        8300               77   \n4       1999             0           2330       14007                0   \n5       2001             0           1250        3136                0   \n6       1931             0           2000        6000                0   \n7       1992             0           2210        7028                0   \n8       1992             0           2980       15438                0   \n9       1954             0           1250        8316                0   \n10      2013             0           2160       14496                0   \n11      1961             0           1160        9000                0   \n12      1984             0           2050       11448                0   \n13      1956             0           2450       16715                0   \n14      2014             0           2574       14446                0   \n15      1956             0           1330        9529                0   \n15      1956             0           1330        9529                0   \n16      1947             0            920        5100                0   \n17      1959             0           1070        8750                0   \n18      1912             0           1710        3600                0   \n19      1987             0           1300        3823                0   \n20      1943          2005           2000       10454               62   \n21      1976             0           1600        6400                0   \n22      1967             0           1820        9840                0   \n23      1910             0           1520        1438                0   \n24      1948             0           1310        8169                0   \n25      1964             0           2380       10125                0   \n26      2002             0           3940       14212                0   \n27      1909             0           1680        4000                0   \n28      1954             0           1380        8918                0   \n29      1994             0           2550       42625                0   \n30      2003             0           2620        8895                0   \n31      2005             0            690        1059                0   \n\n    sell year sell month  \n0        2015         02  \n1        2015         04  \n2        2015         05  \n3        2014         12  \n4        2014         06  \n5        2014         10  \n6        2015         03  \n7        2015         03  \n8        2014         09  \n9        2014         12  \n10       2015         05  \n11       2014         10  \n12       2015         04  \n13       2014         08  \n14       2014         08  \n15       2014         10  \n15       2015         03  \n16       2015         04  \n17       2015         04  \n18       2014         09  \n19       2014         09  \n20       2014         12  \n21       2014         12  \n22       2015         04  \n23       2014         06  \n24       2014         07  \n25       2014         12  \n26       2015         04  \n27       2014         06  \n28       2014         10  \n29       2014         06  \n30       2014         06  \n31       2014         11  \n\n[33 rows x 21 columns]",
      "text/html": "<div>\n<style scoped>\n    .dataframe tbody tr th:only-of-type {\n        vertical-align: middle;\n    }\n\n    .dataframe tbody tr th {\n        vertical-align: top;\n    }\n\n    .dataframe thead th {\n        text-align: right;\n    }\n</style>\n<table border=\"1\" class=\"dataframe\">\n  <thead>\n    <tr style=\"text-align: right;\">\n      <th></th>\n      <th>client_id</th>\n      <th>house_id</th>\n      <th>price</th>\n      <th>bedrooms</th>\n      <th>bathrooms</th>\n      <th>sqft_living</th>\n      <th>sqft_lot</th>\n      <th>floors</th>\n      <th>waterfront</th>\n      <th>view</th>\n      <th>...</th>\n      <th>grade</th>\n      <th>sqft_above</th>\n      <th>sqft_basement</th>\n      <th>yr_built</th>\n      <th>yr_renovated</th>\n      <th>sqft_living15</th>\n      <th>sqft_lot15</th>\n      <th>delta_renovated</th>\n      <th>sell year</th>\n      <th>sell month</th>\n    </tr>\n  </thead>\n  <tbody>\n    <tr>\n      <th>0</th>\n      <td>1459</td>\n      <td>8965450190</td>\n      <td>295000.0</td>\n      <td>3</td>\n      <td>2.50</td>\n      <td>1500</td>\n      <td>3060</td>\n      <td>2.0</td>\n      <td>0</td>\n      <td>0</td>\n      <td>...</td>\n      <td>7</td>\n      <td>1500</td>\n      <td>0</td>\n      <td>1994</td>\n      <td>0</td>\n      <td>2700</td>\n      <td>7734</td>\n      <td>0</td>\n      <td>2015</td>\n      <td>02</td>\n    </tr>\n    <tr>\n      <th>1</th>\n      <td>4684</td>\n      <td>6823100225</td>\n      <td>700000.0</td>\n      <td>4</td>\n      <td>1.75</td>\n      <td>1870</td>\n      <td>6000</td>\n      <td>1.0</td>\n      <td>0</td>\n      <td>0</td>\n      <td>...</td>\n      <td>8</td>\n      <td>1670</td>\n      <td>200</td>\n      <td>1949</td>\n      <td>0</td>\n      <td>1710</td>\n      <td>6000</td>\n      <td>0</td>\n      <td>2015</td>\n      <td>04</td>\n    </tr>\n    <tr>\n      <th>2</th>\n      <td>3498</td>\n      <td>5104540330</td>\n      <td>679000.0</td>\n      <td>4</td>\n      <td>2.50</td>\n      <td>3680</td>\n      <td>7236</td>\n      <td>2.0</td>\n      <td>0</td>\n      <td>0</td>\n      <td>...</td>\n      <td>10</td>\n      <td>3680</td>\n      <td>0</td>\n      <td>2006</td>\n      <td>0</td>\n      <td>3310</td>\n      <td>7180</td>\n      <td>0</td>\n      <td>2015</td>\n      <td>05</td>\n    </tr>\n    <tr>\n      <th>3</th>\n      <td>3942</td>\n      <td>2131701075</td>\n      <td>420000.0</td>\n      <td>3</td>\n      <td>1.75</td>\n      <td>1720</td>\n      <td>5000</td>\n      <td>1.5</td>\n      <td>0</td>\n      <td>0</td>\n      <td>...</td>\n      <td>8</td>\n      <td>1720</td>\n      <td>0</td>\n      <td>1932</td>\n      <td>2009</td>\n      <td>1410</td>\n      <td>8300</td>\n      <td>77</td>\n      <td>2014</td>\n      <td>12</td>\n    </tr>\n    <tr>\n      <th>4</th>\n      <td>4535</td>\n      <td>1522700060</td>\n      <td>518000.0</td>\n      <td>4</td>\n      <td>2.75</td>\n      <td>2520</td>\n      <td>14021</td>\n      <td>2.0</td>\n      <td>0</td>\n      <td>0</td>\n      <td>...</td>\n      <td>9</td>\n      <td>2520</td>\n      <td>0</td>\n      <td>1999</td>\n      <td>0</td>\n      <td>2330</td>\n      <td>14007</td>\n      <td>0</td>\n      <td>2014</td>\n      <td>06</td>\n    </tr>\n    <tr>\n      <th>5</th>\n      <td>2308</td>\n      <td>1189000207</td>\n      <td>387000.0</td>\n      <td>2</td>\n      <td>2.50</td>\n      <td>1170</td>\n      <td>1394</td>\n      <td>2.0</td>\n      <td>0</td>\n      <td>0</td>\n      <td>...</td>\n      <td>8</td>\n      <td>1170</td>\n      <td>0</td>\n      <td>2001</td>\n      <td>0</td>\n      <td>1250</td>\n      <td>3136</td>\n      <td>0</td>\n      <td>2014</td>\n      <td>10</td>\n    </tr>\n    <tr>\n      <th>6</th>\n      <td>2866</td>\n      <td>6821600300</td>\n      <td>886000.0</td>\n      <td>3</td>\n      <td>2.25</td>\n      <td>2380</td>\n      <td>6000</td>\n      <td>2.0</td>\n      <td>0</td>\n      <td>0</td>\n      <td>...</td>\n      <td>9</td>\n      <td>1650</td>\n      <td>730</td>\n      <td>1931</td>\n      <td>0</td>\n      <td>2000</td>\n      <td>6000</td>\n      <td>0</td>\n      <td>2015</td>\n      <td>03</td>\n    </tr>\n    <tr>\n      <th>7</th>\n      <td>2765</td>\n      <td>7137950720</td>\n      <td>339100.0</td>\n      <td>4</td>\n      <td>2.50</td>\n      <td>2350</td>\n      <td>10655</td>\n      <td>2.0</td>\n      <td>0</td>\n      <td>0</td>\n      <td>...</td>\n      <td>8</td>\n      <td>2350</td>\n      <td>0</td>\n      <td>1992</td>\n      <td>0</td>\n      <td>2210</td>\n      <td>7028</td>\n      <td>0</td>\n      <td>2015</td>\n      <td>03</td>\n    </tr>\n    <tr>\n      <th>8</th>\n      <td>1472</td>\n      <td>9510920050</td>\n      <td>725000.0</td>\n      <td>3</td>\n      <td>2.50</td>\n      <td>2980</td>\n      <td>16996</td>\n      <td>2.0</td>\n      <td>0</td>\n      <td>0</td>\n      <td>...</td>\n      <td>10</td>\n      <td>2980</td>\n      <td>0</td>\n      <td>1992</td>\n      <td>0</td>\n      <td>2980</td>\n      <td>15438</td>\n      <td>0</td>\n      <td>2014</td>\n      <td>09</td>\n    </tr>\n    <tr>\n      <th>9</th>\n      <td>4236</td>\n      <td>6131600255</td>\n      <td>202500.0</td>\n      <td>3</td>\n      <td>2.00</td>\n      <td>1540</td>\n      <td>8316</td>\n      <td>1.0</td>\n      <td>0</td>\n      <td>0</td>\n      <td>...</td>\n      <td>6</td>\n      <td>1540</td>\n      <td>0</td>\n      <td>1954</td>\n      <td>0</td>\n      <td>1250</td>\n      <td>8316</td>\n      <td>0</td>\n      <td>2014</td>\n      <td>12</td>\n    </tr>\n    <tr>\n      <th>10</th>\n      <td>2295</td>\n      <td>5428000070</td>\n      <td>770000.0</td>\n      <td>5</td>\n      <td>3.50</td>\n      <td>4750</td>\n      <td>8234</td>\n      <td>2.0</td>\n      <td>0</td>\n      <td>2</td>\n      <td>...</td>\n      <td>10</td>\n      <td>3350</td>\n      <td>1400</td>\n      <td>2013</td>\n      <td>0</td>\n      <td>2160</td>\n      <td>14496</td>\n      <td>0</td>\n      <td>2015</td>\n      <td>05</td>\n    </tr>\n    <tr>\n      <th>11</th>\n      <td>939</td>\n      <td>1788800910</td>\n      <td>190000.0</td>\n      <td>3</td>\n      <td>1.00</td>\n      <td>1200</td>\n      <td>10458</td>\n      <td>1.0</td>\n      <td>0</td>\n      <td>0</td>\n      <td>...</td>\n      <td>6</td>\n      <td>1200</td>\n      <td>0</td>\n      <td>1961</td>\n      <td>0</td>\n      <td>1160</td>\n      <td>9000</td>\n      <td>0</td>\n      <td>2014</td>\n      <td>10</td>\n    </tr>\n    <tr>\n      <th>12</th>\n      <td>3840</td>\n      <td>8100400160</td>\n      <td>700000.0</td>\n      <td>3</td>\n      <td>2.25</td>\n      <td>2330</td>\n      <td>11424</td>\n      <td>2.0</td>\n      <td>0</td>\n      <td>0</td>\n      <td>...</td>\n      <td>8</td>\n      <td>2330</td>\n      <td>0</td>\n      <td>1984</td>\n      <td>0</td>\n      <td>2050</td>\n      <td>11448</td>\n      <td>0</td>\n      <td>2015</td>\n      <td>04</td>\n    </tr>\n    <tr>\n      <th>13</th>\n      <td>280</td>\n      <td>3123049142</td>\n      <td>452000.0</td>\n      <td>3</td>\n      <td>2.25</td>\n      <td>2600</td>\n      <td>14810</td>\n      <td>1.0</td>\n      <td>0</td>\n      <td>2</td>\n      <td>...</td>\n      <td>8</td>\n      <td>1490</td>\n      <td>1110</td>\n      <td>1956</td>\n      <td>0</td>\n      <td>2450</td>\n      <td>16715</td>\n      <td>0</td>\n      <td>2014</td>\n      <td>08</td>\n    </tr>\n    <tr>\n      <th>14</th>\n      <td>20</td>\n      <td>6306800010</td>\n      <td>436472.0</td>\n      <td>4</td>\n      <td>2.50</td>\n      <td>2692</td>\n      <td>8392</td>\n      <td>2.0</td>\n      <td>0</td>\n      <td>0</td>\n      <td>...</td>\n      <td>9</td>\n      <td>2692</td>\n      <td>0</td>\n      <td>2014</td>\n      <td>0</td>\n      <td>2574</td>\n      <td>14446</td>\n      <td>0</td>\n      <td>2014</td>\n      <td>08</td>\n    </tr>\n    <tr>\n      <th>15</th>\n      <td>4332</td>\n      <td>5083000375</td>\n      <td>170000.0</td>\n      <td>3</td>\n      <td>1.00</td>\n      <td>1310</td>\n      <td>9529</td>\n      <td>1.0</td>\n      <td>0</td>\n      <td>0</td>\n      <td>...</td>\n      <td>7</td>\n      <td>1310</td>\n      <td>0</td>\n      <td>1956</td>\n      <td>0</td>\n      <td>1330</td>\n      <td>9529</td>\n      <td>0</td>\n      <td>2014</td>\n      <td>10</td>\n    </tr>\n    <tr>\n      <th>15</th>\n      <td>4332</td>\n      <td>5083000375</td>\n      <td>235000.0</td>\n      <td>3</td>\n      <td>1.00</td>\n      <td>1310</td>\n      <td>9529</td>\n      <td>1.0</td>\n      <td>0</td>\n      <td>0</td>\n      <td>...</td>\n      <td>7</td>\n      <td>1310</td>\n      <td>0</td>\n      <td>1956</td>\n      <td>0</td>\n      <td>1330</td>\n      <td>9529</td>\n      <td>0</td>\n      <td>2015</td>\n      <td>03</td>\n    </tr>\n    <tr>\n      <th>16</th>\n      <td>3475</td>\n      <td>7920100025</td>\n      <td>450000.0</td>\n      <td>2</td>\n      <td>1.00</td>\n      <td>740</td>\n      <td>5100</td>\n      <td>1.0</td>\n      <td>0</td>\n      <td>0</td>\n      <td>...</td>\n      <td>7</td>\n      <td>740</td>\n      <td>0</td>\n      <td>1947</td>\n      <td>0</td>\n      <td>920</td>\n      <td>5100</td>\n      <td>0</td>\n      <td>2015</td>\n      <td>04</td>\n    </tr>\n    <tr>\n      <th>17</th>\n      <td>4213</td>\n      <td>1951600150</td>\n      <td>180000.0</td>\n      <td>3</td>\n      <td>1.00</td>\n      <td>1610</td>\n      <td>8500</td>\n      <td>1.5</td>\n      <td>0</td>\n      <td>0</td>\n      <td>...</td>\n      <td>7</td>\n      <td>1610</td>\n      <td>0</td>\n      <td>1959</td>\n      <td>0</td>\n      <td>1070</td>\n      <td>8750</td>\n      <td>0</td>\n      <td>2015</td>\n      <td>04</td>\n    </tr>\n    <tr>\n      <th>18</th>\n      <td>3113</td>\n      <td>809001400</td>\n      <td>925000.0</td>\n      <td>3</td>\n      <td>1.00</td>\n      <td>1630</td>\n      <td>3200</td>\n      <td>1.5</td>\n      <td>0</td>\n      <td>0</td>\n      <td>...</td>\n      <td>8</td>\n      <td>1630</td>\n      <td>0</td>\n      <td>1912</td>\n      <td>0</td>\n      <td>1710</td>\n      <td>3600</td>\n      <td>0</td>\n      <td>2014</td>\n      <td>09</td>\n    </tr>\n    <tr>\n      <th>19</th>\n      <td>4809</td>\n      <td>339600110</td>\n      <td>395000.0</td>\n      <td>3</td>\n      <td>2.50</td>\n      <td>1610</td>\n      <td>3755</td>\n      <td>2.0</td>\n      <td>0</td>\n      <td>0</td>\n      <td>...</td>\n      <td>7</td>\n      <td>1610</td>\n      <td>0</td>\n      <td>1987</td>\n      <td>0</td>\n      <td>1300</td>\n      <td>3823</td>\n      <td>0</td>\n      <td>2014</td>\n      <td>09</td>\n    </tr>\n    <tr>\n      <th>20</th>\n      <td>2134</td>\n      <td>1622049154</td>\n      <td>289900.0</td>\n      <td>3</td>\n      <td>1.75</td>\n      <td>1899</td>\n      <td>11325</td>\n      <td>2.0</td>\n      <td>0</td>\n      <td>0</td>\n      <td>...</td>\n      <td>7</td>\n      <td>1899</td>\n      <td>0</td>\n      <td>1943</td>\n      <td>2005</td>\n      <td>2000</td>\n      <td>10454</td>\n      <td>62</td>\n      <td>2014</td>\n      <td>12</td>\n    </tr>\n    <tr>\n      <th>21</th>\n      <td>2242</td>\n      <td>1099600250</td>\n      <td>260000.0</td>\n      <td>3</td>\n      <td>1.75</td>\n      <td>1710</td>\n      <td>6400</td>\n      <td>1.0</td>\n      <td>0</td>\n      <td>0</td>\n      <td>...</td>\n      <td>7</td>\n      <td>1240</td>\n      <td>470</td>\n      <td>1976</td>\n      <td>0</td>\n      <td>1600</td>\n      <td>6400</td>\n      <td>0</td>\n      <td>2014</td>\n      <td>12</td>\n    </tr>\n    <tr>\n      <th>22</th>\n      <td>2068</td>\n      <td>8563000110</td>\n      <td>427000.0</td>\n      <td>4</td>\n      <td>1.75</td>\n      <td>1460</td>\n      <td>9750</td>\n      <td>1.0</td>\n      <td>0</td>\n      <td>0</td>\n      <td>...</td>\n      <td>7</td>\n      <td>1460</td>\n      <td>0</td>\n      <td>1967</td>\n      <td>0</td>\n      <td>1820</td>\n      <td>9840</td>\n      <td>0</td>\n      <td>2015</td>\n      <td>04</td>\n    </tr>\n    <tr>\n      <th>23</th>\n      <td>4929</td>\n      <td>2768100205</td>\n      <td>519000.0</td>\n      <td>4</td>\n      <td>2.50</td>\n      <td>1950</td>\n      <td>2617</td>\n      <td>1.5</td>\n      <td>0</td>\n      <td>0</td>\n      <td>...</td>\n      <td>7</td>\n      <td>1250</td>\n      <td>700</td>\n      <td>1910</td>\n      <td>0</td>\n      <td>1520</td>\n      <td>1438</td>\n      <td>0</td>\n      <td>2014</td>\n      <td>06</td>\n    </tr>\n    <tr>\n      <th>24</th>\n      <td>1384</td>\n      <td>3995700435</td>\n      <td>265000.0</td>\n      <td>4</td>\n      <td>3.00</td>\n      <td>1940</td>\n      <td>8170</td>\n      <td>1.0</td>\n      <td>0</td>\n      <td>0</td>\n      <td>...</td>\n      <td>7</td>\n      <td>1940</td>\n      <td>0</td>\n      <td>1948</td>\n      <td>0</td>\n      <td>1310</td>\n      <td>8169</td>\n      <td>0</td>\n      <td>2014</td>\n      <td>07</td>\n    </tr>\n    <tr>\n      <th>25</th>\n      <td>1589</td>\n      <td>8861700030</td>\n      <td>510000.0</td>\n      <td>3</td>\n      <td>1.50</td>\n      <td>2400</td>\n      <td>10275</td>\n      <td>1.0</td>\n      <td>0</td>\n      <td>0</td>\n      <td>...</td>\n      <td>8</td>\n      <td>1540</td>\n      <td>860</td>\n      <td>1964</td>\n      <td>0</td>\n      <td>2380</td>\n      <td>10125</td>\n      <td>0</td>\n      <td>2014</td>\n      <td>12</td>\n    </tr>\n    <tr>\n      <th>26</th>\n      <td>3317</td>\n      <td>3303980210</td>\n      <td>1115000.0</td>\n      <td>4</td>\n      <td>3.75</td>\n      <td>4040</td>\n      <td>14212</td>\n      <td>2.0</td>\n      <td>0</td>\n      <td>0</td>\n      <td>...</td>\n      <td>11</td>\n      <td>4040</td>\n      <td>0</td>\n      <td>2002</td>\n      <td>0</td>\n      <td>3940</td>\n      <td>14212</td>\n      <td>0</td>\n      <td>2015</td>\n      <td>04</td>\n    </tr>\n    <tr>\n      <th>27</th>\n      <td>2260</td>\n      <td>7731100066</td>\n      <td>545000.0</td>\n      <td>3</td>\n      <td>1.00</td>\n      <td>1510</td>\n      <td>5000</td>\n      <td>1.5</td>\n      <td>0</td>\n      <td>0</td>\n      <td>...</td>\n      <td>7</td>\n      <td>1510</td>\n      <td>0</td>\n      <td>1909</td>\n      <td>0</td>\n      <td>1680</td>\n      <td>4000</td>\n      <td>0</td>\n      <td>2014</td>\n      <td>06</td>\n    </tr>\n    <tr>\n      <th>28</th>\n      <td>1727</td>\n      <td>8146100580</td>\n      <td>765000.0</td>\n      <td>3</td>\n      <td>1.00</td>\n      <td>1220</td>\n      <td>7585</td>\n      <td>1.0</td>\n      <td>0</td>\n      <td>0</td>\n      <td>...</td>\n      <td>7</td>\n      <td>1220</td>\n      <td>0</td>\n      <td>1954</td>\n      <td>0</td>\n      <td>1380</td>\n      <td>8918</td>\n      <td>0</td>\n      <td>2014</td>\n      <td>10</td>\n    </tr>\n    <tr>\n      <th>29</th>\n      <td>1764</td>\n      <td>825069097</td>\n      <td>770000.0</td>\n      <td>3</td>\n      <td>2.50</td>\n      <td>2650</td>\n      <td>40705</td>\n      <td>2.0</td>\n      <td>0</td>\n      <td>0</td>\n      <td>...</td>\n      <td>9</td>\n      <td>2650</td>\n      <td>0</td>\n      <td>1994</td>\n      <td>0</td>\n      <td>2550</td>\n      <td>42625</td>\n      <td>0</td>\n      <td>2014</td>\n      <td>06</td>\n    </tr>\n    <tr>\n      <th>30</th>\n      <td>1611</td>\n      <td>3889100029</td>\n      <td>810000.0</td>\n      <td>3</td>\n      <td>2.50</td>\n      <td>2670</td>\n      <td>10481</td>\n      <td>2.0</td>\n      <td>0</td>\n      <td>0</td>\n      <td>...</td>\n      <td>9</td>\n      <td>2670</td>\n      <td>0</td>\n      <td>2003</td>\n      <td>0</td>\n      <td>2620</td>\n      <td>8895</td>\n      <td>0</td>\n      <td>2014</td>\n      <td>06</td>\n    </tr>\n    <tr>\n      <th>31</th>\n      <td>1474</td>\n      <td>9524100196</td>\n      <td>239000.0</td>\n      <td>2</td>\n      <td>1.50</td>\n      <td>680</td>\n      <td>772</td>\n      <td>2.0</td>\n      <td>0</td>\n      <td>0</td>\n      <td>...</td>\n      <td>7</td>\n      <td>680</td>\n      <td>0</td>\n      <td>2005</td>\n      <td>0</td>\n      <td>690</td>\n      <td>1059</td>\n      <td>0</td>\n      <td>2014</td>\n      <td>11</td>\n    </tr>\n  </tbody>\n</table>\n<p>33 rows × 21 columns</p>\n</div>"
     },
     "execution_count": 14,
     "metadata": {},
     "output_type": "execute_result"
    }
   ],
   "source": [
    "# 2.1 Присоедините к таблице clients данные по домам через метод join\n",
    "clients.join(kc_house_data.set_index('id'), on='house_id')"
   ],
   "metadata": {
    "collapsed": false
   }
  },
  {
   "cell_type": "code",
   "execution_count": 15,
   "outputs": [
    {
     "data": {
      "text/plain": "    client_id    house_id          id      price  bedrooms  bathrooms  \\\n0        1459  8965450190  8965450190   295000.0         3       2.50   \n1        4684  6823100225  6823100225   700000.0         4       1.75   \n2        3498  5104540330  5104540330   679000.0         4       2.50   \n3        3942  2131701075  2131701075   420000.0         3       1.75   \n4        4535  1522700060  1522700060   518000.0         4       2.75   \n5        2308  1189000207  1189000207   387000.0         2       2.50   \n6        2866  6821600300  6821600300   886000.0         3       2.25   \n7        2765  7137950720  7137950720   339100.0         4       2.50   \n8        1472  9510920050  9510920050   725000.0         3       2.50   \n9        4236  6131600255  6131600255   202500.0         3       2.00   \n10       2295  5428000070  5428000070   770000.0         5       3.50   \n11        939  1788800910  1788800910   190000.0         3       1.00   \n12       3840  8100400160  8100400160   700000.0         3       2.25   \n13        280  3123049142  3123049142   452000.0         3       2.25   \n14         20  6306800010  6306800010   436472.0         4       2.50   \n15       4332  5083000375  5083000375   170000.0         3       1.00   \n16       4332  5083000375  5083000375   235000.0         3       1.00   \n17       3475  7920100025  7920100025   450000.0         2       1.00   \n18       4213  1951600150  1951600150   180000.0         3       1.00   \n19       3113   809001400   809001400   925000.0         3       1.00   \n20       4809   339600110   339600110   395000.0         3       2.50   \n21       2134  1622049154  1622049154   289900.0         3       1.75   \n22       2242  1099600250  1099600250   260000.0         3       1.75   \n23       2068  8563000110  8563000110   427000.0         4       1.75   \n24       4929  2768100205  2768100205   519000.0         4       2.50   \n25       1384  3995700435  3995700435   265000.0         4       3.00   \n26       1589  8861700030  8861700030   510000.0         3       1.50   \n27       3317  3303980210  3303980210  1115000.0         4       3.75   \n28       2260  7731100066  7731100066   545000.0         3       1.00   \n29       1727  8146100580  8146100580   765000.0         3       1.00   \n30       1764   825069097   825069097   770000.0         3       2.50   \n31       1611  3889100029  3889100029   810000.0         3       2.50   \n32       1474  9524100196  9524100196   239000.0         2       1.50   \n\n    sqft_living  sqft_lot  floors  waterfront  ...  grade  sqft_above  \\\n0          1500      3060     2.0           0  ...      7        1500   \n1          1870      6000     1.0           0  ...      8        1670   \n2          3680      7236     2.0           0  ...     10        3680   \n3          1720      5000     1.5           0  ...      8        1720   \n4          2520     14021     2.0           0  ...      9        2520   \n5          1170      1394     2.0           0  ...      8        1170   \n6          2380      6000     2.0           0  ...      9        1650   \n7          2350     10655     2.0           0  ...      8        2350   \n8          2980     16996     2.0           0  ...     10        2980   \n9          1540      8316     1.0           0  ...      6        1540   \n10         4750      8234     2.0           0  ...     10        3350   \n11         1200     10458     1.0           0  ...      6        1200   \n12         2330     11424     2.0           0  ...      8        2330   \n13         2600     14810     1.0           0  ...      8        1490   \n14         2692      8392     2.0           0  ...      9        2692   \n15         1310      9529     1.0           0  ...      7        1310   \n16         1310      9529     1.0           0  ...      7        1310   \n17          740      5100     1.0           0  ...      7         740   \n18         1610      8500     1.5           0  ...      7        1610   \n19         1630      3200     1.5           0  ...      8        1630   \n20         1610      3755     2.0           0  ...      7        1610   \n21         1899     11325     2.0           0  ...      7        1899   \n22         1710      6400     1.0           0  ...      7        1240   \n23         1460      9750     1.0           0  ...      7        1460   \n24         1950      2617     1.5           0  ...      7        1250   \n25         1940      8170     1.0           0  ...      7        1940   \n26         2400     10275     1.0           0  ...      8        1540   \n27         4040     14212     2.0           0  ...     11        4040   \n28         1510      5000     1.5           0  ...      7        1510   \n29         1220      7585     1.0           0  ...      7        1220   \n30         2650     40705     2.0           0  ...      9        2650   \n31         2670     10481     2.0           0  ...      9        2670   \n32          680       772     2.0           0  ...      7         680   \n\n    sqft_basement  yr_built  yr_renovated  sqft_living15  sqft_lot15  \\\n0               0      1994             0           2700        7734   \n1             200      1949             0           1710        6000   \n2               0      2006             0           3310        7180   \n3               0      1932          2009           1410        8300   \n4               0      1999             0           2330       14007   \n5               0      2001             0           1250        3136   \n6             730      1931             0           2000        6000   \n7               0      1992             0           2210        7028   \n8               0      1992             0           2980       15438   \n9               0      1954             0           1250        8316   \n10           1400      2013             0           2160       14496   \n11              0      1961             0           1160        9000   \n12              0      1984             0           2050       11448   \n13           1110      1956             0           2450       16715   \n14              0      2014             0           2574       14446   \n15              0      1956             0           1330        9529   \n16              0      1956             0           1330        9529   \n17              0      1947             0            920        5100   \n18              0      1959             0           1070        8750   \n19              0      1912             0           1710        3600   \n20              0      1987             0           1300        3823   \n21              0      1943          2005           2000       10454   \n22            470      1976             0           1600        6400   \n23              0      1967             0           1820        9840   \n24            700      1910             0           1520        1438   \n25              0      1948             0           1310        8169   \n26            860      1964             0           2380       10125   \n27              0      2002             0           3940       14212   \n28              0      1909             0           1680        4000   \n29              0      1954             0           1380        8918   \n30              0      1994             0           2550       42625   \n31              0      2003             0           2620        8895   \n32              0      2005             0            690        1059   \n\n    delta_renovated  sell year  sell month  \n0                 0       2015          02  \n1                 0       2015          04  \n2                 0       2015          05  \n3                77       2014          12  \n4                 0       2014          06  \n5                 0       2014          10  \n6                 0       2015          03  \n7                 0       2015          03  \n8                 0       2014          09  \n9                 0       2014          12  \n10                0       2015          05  \n11                0       2014          10  \n12                0       2015          04  \n13                0       2014          08  \n14                0       2014          08  \n15                0       2014          10  \n16                0       2015          03  \n17                0       2015          04  \n18                0       2015          04  \n19                0       2014          09  \n20                0       2014          09  \n21               62       2014          12  \n22                0       2014          12  \n23                0       2015          04  \n24                0       2014          06  \n25                0       2014          07  \n26                0       2014          12  \n27                0       2015          04  \n28                0       2014          06  \n29                0       2014          10  \n30                0       2014          06  \n31                0       2014          06  \n32                0       2014          11  \n\n[33 rows x 22 columns]",
      "text/html": "<div>\n<style scoped>\n    .dataframe tbody tr th:only-of-type {\n        vertical-align: middle;\n    }\n\n    .dataframe tbody tr th {\n        vertical-align: top;\n    }\n\n    .dataframe thead th {\n        text-align: right;\n    }\n</style>\n<table border=\"1\" class=\"dataframe\">\n  <thead>\n    <tr style=\"text-align: right;\">\n      <th></th>\n      <th>client_id</th>\n      <th>house_id</th>\n      <th>id</th>\n      <th>price</th>\n      <th>bedrooms</th>\n      <th>bathrooms</th>\n      <th>sqft_living</th>\n      <th>sqft_lot</th>\n      <th>floors</th>\n      <th>waterfront</th>\n      <th>...</th>\n      <th>grade</th>\n      <th>sqft_above</th>\n      <th>sqft_basement</th>\n      <th>yr_built</th>\n      <th>yr_renovated</th>\n      <th>sqft_living15</th>\n      <th>sqft_lot15</th>\n      <th>delta_renovated</th>\n      <th>sell year</th>\n      <th>sell month</th>\n    </tr>\n  </thead>\n  <tbody>\n    <tr>\n      <th>0</th>\n      <td>1459</td>\n      <td>8965450190</td>\n      <td>8965450190</td>\n      <td>295000.0</td>\n      <td>3</td>\n      <td>2.50</td>\n      <td>1500</td>\n      <td>3060</td>\n      <td>2.0</td>\n      <td>0</td>\n      <td>...</td>\n      <td>7</td>\n      <td>1500</td>\n      <td>0</td>\n      <td>1994</td>\n      <td>0</td>\n      <td>2700</td>\n      <td>7734</td>\n      <td>0</td>\n      <td>2015</td>\n      <td>02</td>\n    </tr>\n    <tr>\n      <th>1</th>\n      <td>4684</td>\n      <td>6823100225</td>\n      <td>6823100225</td>\n      <td>700000.0</td>\n      <td>4</td>\n      <td>1.75</td>\n      <td>1870</td>\n      <td>6000</td>\n      <td>1.0</td>\n      <td>0</td>\n      <td>...</td>\n      <td>8</td>\n      <td>1670</td>\n      <td>200</td>\n      <td>1949</td>\n      <td>0</td>\n      <td>1710</td>\n      <td>6000</td>\n      <td>0</td>\n      <td>2015</td>\n      <td>04</td>\n    </tr>\n    <tr>\n      <th>2</th>\n      <td>3498</td>\n      <td>5104540330</td>\n      <td>5104540330</td>\n      <td>679000.0</td>\n      <td>4</td>\n      <td>2.50</td>\n      <td>3680</td>\n      <td>7236</td>\n      <td>2.0</td>\n      <td>0</td>\n      <td>...</td>\n      <td>10</td>\n      <td>3680</td>\n      <td>0</td>\n      <td>2006</td>\n      <td>0</td>\n      <td>3310</td>\n      <td>7180</td>\n      <td>0</td>\n      <td>2015</td>\n      <td>05</td>\n    </tr>\n    <tr>\n      <th>3</th>\n      <td>3942</td>\n      <td>2131701075</td>\n      <td>2131701075</td>\n      <td>420000.0</td>\n      <td>3</td>\n      <td>1.75</td>\n      <td>1720</td>\n      <td>5000</td>\n      <td>1.5</td>\n      <td>0</td>\n      <td>...</td>\n      <td>8</td>\n      <td>1720</td>\n      <td>0</td>\n      <td>1932</td>\n      <td>2009</td>\n      <td>1410</td>\n      <td>8300</td>\n      <td>77</td>\n      <td>2014</td>\n      <td>12</td>\n    </tr>\n    <tr>\n      <th>4</th>\n      <td>4535</td>\n      <td>1522700060</td>\n      <td>1522700060</td>\n      <td>518000.0</td>\n      <td>4</td>\n      <td>2.75</td>\n      <td>2520</td>\n      <td>14021</td>\n      <td>2.0</td>\n      <td>0</td>\n      <td>...</td>\n      <td>9</td>\n      <td>2520</td>\n      <td>0</td>\n      <td>1999</td>\n      <td>0</td>\n      <td>2330</td>\n      <td>14007</td>\n      <td>0</td>\n      <td>2014</td>\n      <td>06</td>\n    </tr>\n    <tr>\n      <th>5</th>\n      <td>2308</td>\n      <td>1189000207</td>\n      <td>1189000207</td>\n      <td>387000.0</td>\n      <td>2</td>\n      <td>2.50</td>\n      <td>1170</td>\n      <td>1394</td>\n      <td>2.0</td>\n      <td>0</td>\n      <td>...</td>\n      <td>8</td>\n      <td>1170</td>\n      <td>0</td>\n      <td>2001</td>\n      <td>0</td>\n      <td>1250</td>\n      <td>3136</td>\n      <td>0</td>\n      <td>2014</td>\n      <td>10</td>\n    </tr>\n    <tr>\n      <th>6</th>\n      <td>2866</td>\n      <td>6821600300</td>\n      <td>6821600300</td>\n      <td>886000.0</td>\n      <td>3</td>\n      <td>2.25</td>\n      <td>2380</td>\n      <td>6000</td>\n      <td>2.0</td>\n      <td>0</td>\n      <td>...</td>\n      <td>9</td>\n      <td>1650</td>\n      <td>730</td>\n      <td>1931</td>\n      <td>0</td>\n      <td>2000</td>\n      <td>6000</td>\n      <td>0</td>\n      <td>2015</td>\n      <td>03</td>\n    </tr>\n    <tr>\n      <th>7</th>\n      <td>2765</td>\n      <td>7137950720</td>\n      <td>7137950720</td>\n      <td>339100.0</td>\n      <td>4</td>\n      <td>2.50</td>\n      <td>2350</td>\n      <td>10655</td>\n      <td>2.0</td>\n      <td>0</td>\n      <td>...</td>\n      <td>8</td>\n      <td>2350</td>\n      <td>0</td>\n      <td>1992</td>\n      <td>0</td>\n      <td>2210</td>\n      <td>7028</td>\n      <td>0</td>\n      <td>2015</td>\n      <td>03</td>\n    </tr>\n    <tr>\n      <th>8</th>\n      <td>1472</td>\n      <td>9510920050</td>\n      <td>9510920050</td>\n      <td>725000.0</td>\n      <td>3</td>\n      <td>2.50</td>\n      <td>2980</td>\n      <td>16996</td>\n      <td>2.0</td>\n      <td>0</td>\n      <td>...</td>\n      <td>10</td>\n      <td>2980</td>\n      <td>0</td>\n      <td>1992</td>\n      <td>0</td>\n      <td>2980</td>\n      <td>15438</td>\n      <td>0</td>\n      <td>2014</td>\n      <td>09</td>\n    </tr>\n    <tr>\n      <th>9</th>\n      <td>4236</td>\n      <td>6131600255</td>\n      <td>6131600255</td>\n      <td>202500.0</td>\n      <td>3</td>\n      <td>2.00</td>\n      <td>1540</td>\n      <td>8316</td>\n      <td>1.0</td>\n      <td>0</td>\n      <td>...</td>\n      <td>6</td>\n      <td>1540</td>\n      <td>0</td>\n      <td>1954</td>\n      <td>0</td>\n      <td>1250</td>\n      <td>8316</td>\n      <td>0</td>\n      <td>2014</td>\n      <td>12</td>\n    </tr>\n    <tr>\n      <th>10</th>\n      <td>2295</td>\n      <td>5428000070</td>\n      <td>5428000070</td>\n      <td>770000.0</td>\n      <td>5</td>\n      <td>3.50</td>\n      <td>4750</td>\n      <td>8234</td>\n      <td>2.0</td>\n      <td>0</td>\n      <td>...</td>\n      <td>10</td>\n      <td>3350</td>\n      <td>1400</td>\n      <td>2013</td>\n      <td>0</td>\n      <td>2160</td>\n      <td>14496</td>\n      <td>0</td>\n      <td>2015</td>\n      <td>05</td>\n    </tr>\n    <tr>\n      <th>11</th>\n      <td>939</td>\n      <td>1788800910</td>\n      <td>1788800910</td>\n      <td>190000.0</td>\n      <td>3</td>\n      <td>1.00</td>\n      <td>1200</td>\n      <td>10458</td>\n      <td>1.0</td>\n      <td>0</td>\n      <td>...</td>\n      <td>6</td>\n      <td>1200</td>\n      <td>0</td>\n      <td>1961</td>\n      <td>0</td>\n      <td>1160</td>\n      <td>9000</td>\n      <td>0</td>\n      <td>2014</td>\n      <td>10</td>\n    </tr>\n    <tr>\n      <th>12</th>\n      <td>3840</td>\n      <td>8100400160</td>\n      <td>8100400160</td>\n      <td>700000.0</td>\n      <td>3</td>\n      <td>2.25</td>\n      <td>2330</td>\n      <td>11424</td>\n      <td>2.0</td>\n      <td>0</td>\n      <td>...</td>\n      <td>8</td>\n      <td>2330</td>\n      <td>0</td>\n      <td>1984</td>\n      <td>0</td>\n      <td>2050</td>\n      <td>11448</td>\n      <td>0</td>\n      <td>2015</td>\n      <td>04</td>\n    </tr>\n    <tr>\n      <th>13</th>\n      <td>280</td>\n      <td>3123049142</td>\n      <td>3123049142</td>\n      <td>452000.0</td>\n      <td>3</td>\n      <td>2.25</td>\n      <td>2600</td>\n      <td>14810</td>\n      <td>1.0</td>\n      <td>0</td>\n      <td>...</td>\n      <td>8</td>\n      <td>1490</td>\n      <td>1110</td>\n      <td>1956</td>\n      <td>0</td>\n      <td>2450</td>\n      <td>16715</td>\n      <td>0</td>\n      <td>2014</td>\n      <td>08</td>\n    </tr>\n    <tr>\n      <th>14</th>\n      <td>20</td>\n      <td>6306800010</td>\n      <td>6306800010</td>\n      <td>436472.0</td>\n      <td>4</td>\n      <td>2.50</td>\n      <td>2692</td>\n      <td>8392</td>\n      <td>2.0</td>\n      <td>0</td>\n      <td>...</td>\n      <td>9</td>\n      <td>2692</td>\n      <td>0</td>\n      <td>2014</td>\n      <td>0</td>\n      <td>2574</td>\n      <td>14446</td>\n      <td>0</td>\n      <td>2014</td>\n      <td>08</td>\n    </tr>\n    <tr>\n      <th>15</th>\n      <td>4332</td>\n      <td>5083000375</td>\n      <td>5083000375</td>\n      <td>170000.0</td>\n      <td>3</td>\n      <td>1.00</td>\n      <td>1310</td>\n      <td>9529</td>\n      <td>1.0</td>\n      <td>0</td>\n      <td>...</td>\n      <td>7</td>\n      <td>1310</td>\n      <td>0</td>\n      <td>1956</td>\n      <td>0</td>\n      <td>1330</td>\n      <td>9529</td>\n      <td>0</td>\n      <td>2014</td>\n      <td>10</td>\n    </tr>\n    <tr>\n      <th>16</th>\n      <td>4332</td>\n      <td>5083000375</td>\n      <td>5083000375</td>\n      <td>235000.0</td>\n      <td>3</td>\n      <td>1.00</td>\n      <td>1310</td>\n      <td>9529</td>\n      <td>1.0</td>\n      <td>0</td>\n      <td>...</td>\n      <td>7</td>\n      <td>1310</td>\n      <td>0</td>\n      <td>1956</td>\n      <td>0</td>\n      <td>1330</td>\n      <td>9529</td>\n      <td>0</td>\n      <td>2015</td>\n      <td>03</td>\n    </tr>\n    <tr>\n      <th>17</th>\n      <td>3475</td>\n      <td>7920100025</td>\n      <td>7920100025</td>\n      <td>450000.0</td>\n      <td>2</td>\n      <td>1.00</td>\n      <td>740</td>\n      <td>5100</td>\n      <td>1.0</td>\n      <td>0</td>\n      <td>...</td>\n      <td>7</td>\n      <td>740</td>\n      <td>0</td>\n      <td>1947</td>\n      <td>0</td>\n      <td>920</td>\n      <td>5100</td>\n      <td>0</td>\n      <td>2015</td>\n      <td>04</td>\n    </tr>\n    <tr>\n      <th>18</th>\n      <td>4213</td>\n      <td>1951600150</td>\n      <td>1951600150</td>\n      <td>180000.0</td>\n      <td>3</td>\n      <td>1.00</td>\n      <td>1610</td>\n      <td>8500</td>\n      <td>1.5</td>\n      <td>0</td>\n      <td>...</td>\n      <td>7</td>\n      <td>1610</td>\n      <td>0</td>\n      <td>1959</td>\n      <td>0</td>\n      <td>1070</td>\n      <td>8750</td>\n      <td>0</td>\n      <td>2015</td>\n      <td>04</td>\n    </tr>\n    <tr>\n      <th>19</th>\n      <td>3113</td>\n      <td>809001400</td>\n      <td>809001400</td>\n      <td>925000.0</td>\n      <td>3</td>\n      <td>1.00</td>\n      <td>1630</td>\n      <td>3200</td>\n      <td>1.5</td>\n      <td>0</td>\n      <td>...</td>\n      <td>8</td>\n      <td>1630</td>\n      <td>0</td>\n      <td>1912</td>\n      <td>0</td>\n      <td>1710</td>\n      <td>3600</td>\n      <td>0</td>\n      <td>2014</td>\n      <td>09</td>\n    </tr>\n    <tr>\n      <th>20</th>\n      <td>4809</td>\n      <td>339600110</td>\n      <td>339600110</td>\n      <td>395000.0</td>\n      <td>3</td>\n      <td>2.50</td>\n      <td>1610</td>\n      <td>3755</td>\n      <td>2.0</td>\n      <td>0</td>\n      <td>...</td>\n      <td>7</td>\n      <td>1610</td>\n      <td>0</td>\n      <td>1987</td>\n      <td>0</td>\n      <td>1300</td>\n      <td>3823</td>\n      <td>0</td>\n      <td>2014</td>\n      <td>09</td>\n    </tr>\n    <tr>\n      <th>21</th>\n      <td>2134</td>\n      <td>1622049154</td>\n      <td>1622049154</td>\n      <td>289900.0</td>\n      <td>3</td>\n      <td>1.75</td>\n      <td>1899</td>\n      <td>11325</td>\n      <td>2.0</td>\n      <td>0</td>\n      <td>...</td>\n      <td>7</td>\n      <td>1899</td>\n      <td>0</td>\n      <td>1943</td>\n      <td>2005</td>\n      <td>2000</td>\n      <td>10454</td>\n      <td>62</td>\n      <td>2014</td>\n      <td>12</td>\n    </tr>\n    <tr>\n      <th>22</th>\n      <td>2242</td>\n      <td>1099600250</td>\n      <td>1099600250</td>\n      <td>260000.0</td>\n      <td>3</td>\n      <td>1.75</td>\n      <td>1710</td>\n      <td>6400</td>\n      <td>1.0</td>\n      <td>0</td>\n      <td>...</td>\n      <td>7</td>\n      <td>1240</td>\n      <td>470</td>\n      <td>1976</td>\n      <td>0</td>\n      <td>1600</td>\n      <td>6400</td>\n      <td>0</td>\n      <td>2014</td>\n      <td>12</td>\n    </tr>\n    <tr>\n      <th>23</th>\n      <td>2068</td>\n      <td>8563000110</td>\n      <td>8563000110</td>\n      <td>427000.0</td>\n      <td>4</td>\n      <td>1.75</td>\n      <td>1460</td>\n      <td>9750</td>\n      <td>1.0</td>\n      <td>0</td>\n      <td>...</td>\n      <td>7</td>\n      <td>1460</td>\n      <td>0</td>\n      <td>1967</td>\n      <td>0</td>\n      <td>1820</td>\n      <td>9840</td>\n      <td>0</td>\n      <td>2015</td>\n      <td>04</td>\n    </tr>\n    <tr>\n      <th>24</th>\n      <td>4929</td>\n      <td>2768100205</td>\n      <td>2768100205</td>\n      <td>519000.0</td>\n      <td>4</td>\n      <td>2.50</td>\n      <td>1950</td>\n      <td>2617</td>\n      <td>1.5</td>\n      <td>0</td>\n      <td>...</td>\n      <td>7</td>\n      <td>1250</td>\n      <td>700</td>\n      <td>1910</td>\n      <td>0</td>\n      <td>1520</td>\n      <td>1438</td>\n      <td>0</td>\n      <td>2014</td>\n      <td>06</td>\n    </tr>\n    <tr>\n      <th>25</th>\n      <td>1384</td>\n      <td>3995700435</td>\n      <td>3995700435</td>\n      <td>265000.0</td>\n      <td>4</td>\n      <td>3.00</td>\n      <td>1940</td>\n      <td>8170</td>\n      <td>1.0</td>\n      <td>0</td>\n      <td>...</td>\n      <td>7</td>\n      <td>1940</td>\n      <td>0</td>\n      <td>1948</td>\n      <td>0</td>\n      <td>1310</td>\n      <td>8169</td>\n      <td>0</td>\n      <td>2014</td>\n      <td>07</td>\n    </tr>\n    <tr>\n      <th>26</th>\n      <td>1589</td>\n      <td>8861700030</td>\n      <td>8861700030</td>\n      <td>510000.0</td>\n      <td>3</td>\n      <td>1.50</td>\n      <td>2400</td>\n      <td>10275</td>\n      <td>1.0</td>\n      <td>0</td>\n      <td>...</td>\n      <td>8</td>\n      <td>1540</td>\n      <td>860</td>\n      <td>1964</td>\n      <td>0</td>\n      <td>2380</td>\n      <td>10125</td>\n      <td>0</td>\n      <td>2014</td>\n      <td>12</td>\n    </tr>\n    <tr>\n      <th>27</th>\n      <td>3317</td>\n      <td>3303980210</td>\n      <td>3303980210</td>\n      <td>1115000.0</td>\n      <td>4</td>\n      <td>3.75</td>\n      <td>4040</td>\n      <td>14212</td>\n      <td>2.0</td>\n      <td>0</td>\n      <td>...</td>\n      <td>11</td>\n      <td>4040</td>\n      <td>0</td>\n      <td>2002</td>\n      <td>0</td>\n      <td>3940</td>\n      <td>14212</td>\n      <td>0</td>\n      <td>2015</td>\n      <td>04</td>\n    </tr>\n    <tr>\n      <th>28</th>\n      <td>2260</td>\n      <td>7731100066</td>\n      <td>7731100066</td>\n      <td>545000.0</td>\n      <td>3</td>\n      <td>1.00</td>\n      <td>1510</td>\n      <td>5000</td>\n      <td>1.5</td>\n      <td>0</td>\n      <td>...</td>\n      <td>7</td>\n      <td>1510</td>\n      <td>0</td>\n      <td>1909</td>\n      <td>0</td>\n      <td>1680</td>\n      <td>4000</td>\n      <td>0</td>\n      <td>2014</td>\n      <td>06</td>\n    </tr>\n    <tr>\n      <th>29</th>\n      <td>1727</td>\n      <td>8146100580</td>\n      <td>8146100580</td>\n      <td>765000.0</td>\n      <td>3</td>\n      <td>1.00</td>\n      <td>1220</td>\n      <td>7585</td>\n      <td>1.0</td>\n      <td>0</td>\n      <td>...</td>\n      <td>7</td>\n      <td>1220</td>\n      <td>0</td>\n      <td>1954</td>\n      <td>0</td>\n      <td>1380</td>\n      <td>8918</td>\n      <td>0</td>\n      <td>2014</td>\n      <td>10</td>\n    </tr>\n    <tr>\n      <th>30</th>\n      <td>1764</td>\n      <td>825069097</td>\n      <td>825069097</td>\n      <td>770000.0</td>\n      <td>3</td>\n      <td>2.50</td>\n      <td>2650</td>\n      <td>40705</td>\n      <td>2.0</td>\n      <td>0</td>\n      <td>...</td>\n      <td>9</td>\n      <td>2650</td>\n      <td>0</td>\n      <td>1994</td>\n      <td>0</td>\n      <td>2550</td>\n      <td>42625</td>\n      <td>0</td>\n      <td>2014</td>\n      <td>06</td>\n    </tr>\n    <tr>\n      <th>31</th>\n      <td>1611</td>\n      <td>3889100029</td>\n      <td>3889100029</td>\n      <td>810000.0</td>\n      <td>3</td>\n      <td>2.50</td>\n      <td>2670</td>\n      <td>10481</td>\n      <td>2.0</td>\n      <td>0</td>\n      <td>...</td>\n      <td>9</td>\n      <td>2670</td>\n      <td>0</td>\n      <td>2003</td>\n      <td>0</td>\n      <td>2620</td>\n      <td>8895</td>\n      <td>0</td>\n      <td>2014</td>\n      <td>06</td>\n    </tr>\n    <tr>\n      <th>32</th>\n      <td>1474</td>\n      <td>9524100196</td>\n      <td>9524100196</td>\n      <td>239000.0</td>\n      <td>2</td>\n      <td>1.50</td>\n      <td>680</td>\n      <td>772</td>\n      <td>2.0</td>\n      <td>0</td>\n      <td>...</td>\n      <td>7</td>\n      <td>680</td>\n      <td>0</td>\n      <td>2005</td>\n      <td>0</td>\n      <td>690</td>\n      <td>1059</td>\n      <td>0</td>\n      <td>2014</td>\n      <td>11</td>\n    </tr>\n  </tbody>\n</table>\n<p>33 rows × 22 columns</p>\n</div>"
     },
     "execution_count": 15,
     "metadata": {},
     "output_type": "execute_result"
    }
   ],
   "source": [
    "# 2.2 Присоедините к таблице clients данные по домам через метод merge\n",
    "# Это нужно, чтобы понимать, какие дома покупались клиентами\n",
    "# house_id - это индексы датафрейма с домами\n",
    "\n",
    "clients.merge(kc_house_data, how='left', left_on='house_id', right_on='id', )"
   ],
   "metadata": {
    "collapsed": false
   }
  },
  {
   "cell_type": "markdown",
   "source": [
    "## Условие 3: 3 задача\n",
    "___\n",
    "Составьте несколько сводных таблиц\n",
    "3.1 Найдите среднюю стоимость домов в зависимости от количества спален\n",
    "Отсортируйте от меньшей стоимости к большей\n",
    "3.2 Найдите минимальную, среднюю и максимальную стоимости домов в зависимости от состояния дома\n",
    "3.3 Постройте таблицу с подсчетом количества домов в данных в зависимости от вида на набережную и оценкой вида\n",
    "3.4 Каких домов в зависимости от этажности и количества спален больше?\n",
    "3.5 Постройте таблицу с подсчетом медианной стоимости домов в данных в зависимости от состояния дома и оценки дома"
   ],
   "metadata": {
    "collapsed": false
   }
  },
  {
   "cell_type": "code",
   "execution_count": 16,
   "outputs": [
    {
     "data": {
      "text/plain": "                 price\nbedrooms              \n1         3.176429e+05\n2         4.013727e+05\n0         4.095038e+05\n3         4.662321e+05\n11        5.200000e+05\n4         6.354195e+05\n33        6.400000e+05\n5         7.865998e+05\n10        8.193333e+05\n6         8.255206e+05\n9         8.939998e+05\n7         9.511847e+05\n8         1.105077e+06",
      "text/html": "<div>\n<style scoped>\n    .dataframe tbody tr th:only-of-type {\n        vertical-align: middle;\n    }\n\n    .dataframe tbody tr th {\n        vertical-align: top;\n    }\n\n    .dataframe thead th {\n        text-align: right;\n    }\n</style>\n<table border=\"1\" class=\"dataframe\">\n  <thead>\n    <tr style=\"text-align: right;\">\n      <th></th>\n      <th>price</th>\n    </tr>\n    <tr>\n      <th>bedrooms</th>\n      <th></th>\n    </tr>\n  </thead>\n  <tbody>\n    <tr>\n      <th>1</th>\n      <td>3.176429e+05</td>\n    </tr>\n    <tr>\n      <th>2</th>\n      <td>4.013727e+05</td>\n    </tr>\n    <tr>\n      <th>0</th>\n      <td>4.095038e+05</td>\n    </tr>\n    <tr>\n      <th>3</th>\n      <td>4.662321e+05</td>\n    </tr>\n    <tr>\n      <th>11</th>\n      <td>5.200000e+05</td>\n    </tr>\n    <tr>\n      <th>4</th>\n      <td>6.354195e+05</td>\n    </tr>\n    <tr>\n      <th>33</th>\n      <td>6.400000e+05</td>\n    </tr>\n    <tr>\n      <th>5</th>\n      <td>7.865998e+05</td>\n    </tr>\n    <tr>\n      <th>10</th>\n      <td>8.193333e+05</td>\n    </tr>\n    <tr>\n      <th>6</th>\n      <td>8.255206e+05</td>\n    </tr>\n    <tr>\n      <th>9</th>\n      <td>8.939998e+05</td>\n    </tr>\n    <tr>\n      <th>7</th>\n      <td>9.511847e+05</td>\n    </tr>\n    <tr>\n      <th>8</th>\n      <td>1.105077e+06</td>\n    </tr>\n  </tbody>\n</table>\n</div>"
     },
     "execution_count": 16,
     "metadata": {},
     "output_type": "execute_result"
    }
   ],
   "source": [
    "# 3.1 Найдите среднюю стоимость домов в зависимости от количества спален Отсортируйте от меньшей стоимости к большей\n",
    "\n",
    "pd.pivot_table(kc_house_data, index='bedrooms', values='price', aggfunc='mean').sort_values(by='price')"
   ],
   "metadata": {
    "collapsed": false
   }
  },
  {
   "cell_type": "code",
   "execution_count": 17,
   "outputs": [
    {
     "data": {
      "text/plain": "                min           mean        max\n              price          price      price\ncondition                                    \n1           78000.0  334431.666667  1500000.0\n2           80000.0  327287.145349  2555000.0\n3           75000.0  542012.578148  7062500.0\n4           89000.0  521200.390033  7700000.0\n5          110000.0  612418.089359  3650000.0",
      "text/html": "<div>\n<style scoped>\n    .dataframe tbody tr th:only-of-type {\n        vertical-align: middle;\n    }\n\n    .dataframe tbody tr th {\n        vertical-align: top;\n    }\n\n    .dataframe thead tr th {\n        text-align: left;\n    }\n\n    .dataframe thead tr:last-of-type th {\n        text-align: right;\n    }\n</style>\n<table border=\"1\" class=\"dataframe\">\n  <thead>\n    <tr>\n      <th></th>\n      <th>min</th>\n      <th>mean</th>\n      <th>max</th>\n    </tr>\n    <tr>\n      <th></th>\n      <th>price</th>\n      <th>price</th>\n      <th>price</th>\n    </tr>\n    <tr>\n      <th>condition</th>\n      <th></th>\n      <th></th>\n      <th></th>\n    </tr>\n  </thead>\n  <tbody>\n    <tr>\n      <th>1</th>\n      <td>78000.0</td>\n      <td>334431.666667</td>\n      <td>1500000.0</td>\n    </tr>\n    <tr>\n      <th>2</th>\n      <td>80000.0</td>\n      <td>327287.145349</td>\n      <td>2555000.0</td>\n    </tr>\n    <tr>\n      <th>3</th>\n      <td>75000.0</td>\n      <td>542012.578148</td>\n      <td>7062500.0</td>\n    </tr>\n    <tr>\n      <th>4</th>\n      <td>89000.0</td>\n      <td>521200.390033</td>\n      <td>7700000.0</td>\n    </tr>\n    <tr>\n      <th>5</th>\n      <td>110000.0</td>\n      <td>612418.089359</td>\n      <td>3650000.0</td>\n    </tr>\n  </tbody>\n</table>\n</div>"
     },
     "execution_count": 17,
     "metadata": {},
     "output_type": "execute_result"
    }
   ],
   "source": [
    "# 3.2 Найдите минимальную, среднюю и максимальную стоимости домов в зависимости от состояния дома\n",
    "\n",
    "pd.pivot_table(kc_house_data, index='condition', values='price', aggfunc=['min', 'mean', 'max'])"
   ],
   "metadata": {
    "collapsed": false
   }
  },
  {
   "cell_type": "code",
   "execution_count": 18,
   "outputs": [
    {
     "data": {
      "text/plain": "              count                            \nview              0      1      2      3      4\nwaterfront                                     \n0           19489.0  331.0  955.0  491.0  184.0\n1               NaN    1.0    8.0   19.0  135.0",
      "text/html": "<div>\n<style scoped>\n    .dataframe tbody tr th:only-of-type {\n        vertical-align: middle;\n    }\n\n    .dataframe tbody tr th {\n        vertical-align: top;\n    }\n\n    .dataframe thead tr th {\n        text-align: left;\n    }\n\n    .dataframe thead tr:last-of-type th {\n        text-align: right;\n    }\n</style>\n<table border=\"1\" class=\"dataframe\">\n  <thead>\n    <tr>\n      <th></th>\n      <th colspan=\"5\" halign=\"left\">count</th>\n    </tr>\n    <tr>\n      <th>view</th>\n      <th>0</th>\n      <th>1</th>\n      <th>2</th>\n      <th>3</th>\n      <th>4</th>\n    </tr>\n    <tr>\n      <th>waterfront</th>\n      <th></th>\n      <th></th>\n      <th></th>\n      <th></th>\n      <th></th>\n    </tr>\n  </thead>\n  <tbody>\n    <tr>\n      <th>0</th>\n      <td>19489.0</td>\n      <td>331.0</td>\n      <td>955.0</td>\n      <td>491.0</td>\n      <td>184.0</td>\n    </tr>\n    <tr>\n      <th>1</th>\n      <td>NaN</td>\n      <td>1.0</td>\n      <td>8.0</td>\n      <td>19.0</td>\n      <td>135.0</td>\n    </tr>\n  </tbody>\n</table>\n</div>"
     },
     "execution_count": 18,
     "metadata": {},
     "output_type": "execute_result"
    }
   ],
   "source": [
    "# 3.3 Постройте таблицу с подсчетом количества домов в данных в зависимости от вида на набережную и оценкой вида\n",
    "\n",
    "pd.pivot_table(kc_house_data, index='waterfront', columns='view', values='id', aggfunc=['count'])"
   ],
   "metadata": {
    "collapsed": false
   }
  },
  {
   "cell_type": "markdown",
   "source": [
    "### Неточность\n",
    "___\n",
    "В датафрейме признак \"view - Has been viewed\", то есть сколько раз был дом просмотрен, а не оценка вида.\n",
    "Ошибка либо в описании признака, либо в описании задания, однако в рамках задания я принимаю что view - это оценка вида."
   ],
   "metadata": {
    "collapsed": false
   }
  },
  {
   "cell_type": "code",
   "execution_count": 19,
   "outputs": [
    {
     "data": {
      "text/plain": "bedrooms  0    1     2     3     4    5    6   7   8   9   10  11  33\nfloors                                                               \n1.0        4  162  1951  5455  2383  605  104   9   5   0   1   0   1\n1.5        0   21   182   786   698  185   30   7   1   0   0   0   0\n2.0        6   12   497  3118  3682  775  119  19   6   4   2   1   0\n2.5        0    1     5    56    58   23   14   2   0   2   0   0   0\n3.0        2    3   123   405    61   13    5   1   0   0   0   0   0\n3.5        1    0     2     4     0    0    0   0   1   0   0   0   0",
      "text/html": "<div>\n<style scoped>\n    .dataframe tbody tr th:only-of-type {\n        vertical-align: middle;\n    }\n\n    .dataframe tbody tr th {\n        vertical-align: top;\n    }\n\n    .dataframe thead th {\n        text-align: right;\n    }\n</style>\n<table border=\"1\" class=\"dataframe\">\n  <thead>\n    <tr style=\"text-align: right;\">\n      <th>bedrooms</th>\n      <th>0</th>\n      <th>1</th>\n      <th>2</th>\n      <th>3</th>\n      <th>4</th>\n      <th>5</th>\n      <th>6</th>\n      <th>7</th>\n      <th>8</th>\n      <th>9</th>\n      <th>10</th>\n      <th>11</th>\n      <th>33</th>\n    </tr>\n    <tr>\n      <th>floors</th>\n      <th></th>\n      <th></th>\n      <th></th>\n      <th></th>\n      <th></th>\n      <th></th>\n      <th></th>\n      <th></th>\n      <th></th>\n      <th></th>\n      <th></th>\n      <th></th>\n      <th></th>\n    </tr>\n  </thead>\n  <tbody>\n    <tr>\n      <th>1.0</th>\n      <td>4</td>\n      <td>162</td>\n      <td>1951</td>\n      <td>5455</td>\n      <td>2383</td>\n      <td>605</td>\n      <td>104</td>\n      <td>9</td>\n      <td>5</td>\n      <td>0</td>\n      <td>1</td>\n      <td>0</td>\n      <td>1</td>\n    </tr>\n    <tr>\n      <th>1.5</th>\n      <td>0</td>\n      <td>21</td>\n      <td>182</td>\n      <td>786</td>\n      <td>698</td>\n      <td>185</td>\n      <td>30</td>\n      <td>7</td>\n      <td>1</td>\n      <td>0</td>\n      <td>0</td>\n      <td>0</td>\n      <td>0</td>\n    </tr>\n    <tr>\n      <th>2.0</th>\n      <td>6</td>\n      <td>12</td>\n      <td>497</td>\n      <td>3118</td>\n      <td>3682</td>\n      <td>775</td>\n      <td>119</td>\n      <td>19</td>\n      <td>6</td>\n      <td>4</td>\n      <td>2</td>\n      <td>1</td>\n      <td>0</td>\n    </tr>\n    <tr>\n      <th>2.5</th>\n      <td>0</td>\n      <td>1</td>\n      <td>5</td>\n      <td>56</td>\n      <td>58</td>\n      <td>23</td>\n      <td>14</td>\n      <td>2</td>\n      <td>0</td>\n      <td>2</td>\n      <td>0</td>\n      <td>0</td>\n      <td>0</td>\n    </tr>\n    <tr>\n      <th>3.0</th>\n      <td>2</td>\n      <td>3</td>\n      <td>123</td>\n      <td>405</td>\n      <td>61</td>\n      <td>13</td>\n      <td>5</td>\n      <td>1</td>\n      <td>0</td>\n      <td>0</td>\n      <td>0</td>\n      <td>0</td>\n      <td>0</td>\n    </tr>\n    <tr>\n      <th>3.5</th>\n      <td>1</td>\n      <td>0</td>\n      <td>2</td>\n      <td>4</td>\n      <td>0</td>\n      <td>0</td>\n      <td>0</td>\n      <td>0</td>\n      <td>1</td>\n      <td>0</td>\n      <td>0</td>\n      <td>0</td>\n      <td>0</td>\n    </tr>\n  </tbody>\n</table>\n</div>"
     },
     "execution_count": 19,
     "metadata": {},
     "output_type": "execute_result"
    }
   ],
   "source": [
    "# 3.4 Каких домов в зависимости от этажности и количества спален больше?\n",
    "\n",
    "pd.crosstab(index=kc_house_data['floors'], columns=kc_house_data['bedrooms'])"
   ],
   "metadata": {
    "collapsed": false
   }
  },
  {
   "cell_type": "code",
   "execution_count": 20,
   "outputs": [
    {
     "data": {
      "text/plain": "grade            1         3         4         5         6         7   \\\ncondition                                                               \n1          142000.0       NaN  150000.0  190000.0  255000.0  403500.0   \n2               NaN  280000.0  145000.0  180000.0  235000.0  305000.0   \n3               NaN   75000.0  205000.0  234475.0  265000.0  357500.0   \n4               NaN       NaN  238525.0  229975.0  295000.0  390000.0   \n5               NaN  262000.0       NaN  227450.0  285475.0  456000.0   \n\ngrade            8          9          10         11         12         13  \ncondition                                                                   \n1          932500.0        NaN        NaN        NaN        NaN        NaN  \n2          429000.0   715000.0  1752500.0        NaN        NaN        NaN  \n3          485000.0   689000.0   890000.0  1209500.0  1807500.0  2888000.0  \n4          571250.0   823500.0  1030000.0  1685000.0  2125000.0  5750000.0  \n5          696000.0  1078000.0  1650000.0  2050000.0  1990000.0        NaN  ",
      "text/html": "<div>\n<style scoped>\n    .dataframe tbody tr th:only-of-type {\n        vertical-align: middle;\n    }\n\n    .dataframe tbody tr th {\n        vertical-align: top;\n    }\n\n    .dataframe thead th {\n        text-align: right;\n    }\n</style>\n<table border=\"1\" class=\"dataframe\">\n  <thead>\n    <tr style=\"text-align: right;\">\n      <th>grade</th>\n      <th>1</th>\n      <th>3</th>\n      <th>4</th>\n      <th>5</th>\n      <th>6</th>\n      <th>7</th>\n      <th>8</th>\n      <th>9</th>\n      <th>10</th>\n      <th>11</th>\n      <th>12</th>\n      <th>13</th>\n    </tr>\n    <tr>\n      <th>condition</th>\n      <th></th>\n      <th></th>\n      <th></th>\n      <th></th>\n      <th></th>\n      <th></th>\n      <th></th>\n      <th></th>\n      <th></th>\n      <th></th>\n      <th></th>\n      <th></th>\n    </tr>\n  </thead>\n  <tbody>\n    <tr>\n      <th>1</th>\n      <td>142000.0</td>\n      <td>NaN</td>\n      <td>150000.0</td>\n      <td>190000.0</td>\n      <td>255000.0</td>\n      <td>403500.0</td>\n      <td>932500.0</td>\n      <td>NaN</td>\n      <td>NaN</td>\n      <td>NaN</td>\n      <td>NaN</td>\n      <td>NaN</td>\n    </tr>\n    <tr>\n      <th>2</th>\n      <td>NaN</td>\n      <td>280000.0</td>\n      <td>145000.0</td>\n      <td>180000.0</td>\n      <td>235000.0</td>\n      <td>305000.0</td>\n      <td>429000.0</td>\n      <td>715000.0</td>\n      <td>1752500.0</td>\n      <td>NaN</td>\n      <td>NaN</td>\n      <td>NaN</td>\n    </tr>\n    <tr>\n      <th>3</th>\n      <td>NaN</td>\n      <td>75000.0</td>\n      <td>205000.0</td>\n      <td>234475.0</td>\n      <td>265000.0</td>\n      <td>357500.0</td>\n      <td>485000.0</td>\n      <td>689000.0</td>\n      <td>890000.0</td>\n      <td>1209500.0</td>\n      <td>1807500.0</td>\n      <td>2888000.0</td>\n    </tr>\n    <tr>\n      <th>4</th>\n      <td>NaN</td>\n      <td>NaN</td>\n      <td>238525.0</td>\n      <td>229975.0</td>\n      <td>295000.0</td>\n      <td>390000.0</td>\n      <td>571250.0</td>\n      <td>823500.0</td>\n      <td>1030000.0</td>\n      <td>1685000.0</td>\n      <td>2125000.0</td>\n      <td>5750000.0</td>\n    </tr>\n    <tr>\n      <th>5</th>\n      <td>NaN</td>\n      <td>262000.0</td>\n      <td>NaN</td>\n      <td>227450.0</td>\n      <td>285475.0</td>\n      <td>456000.0</td>\n      <td>696000.0</td>\n      <td>1078000.0</td>\n      <td>1650000.0</td>\n      <td>2050000.0</td>\n      <td>1990000.0</td>\n      <td>NaN</td>\n    </tr>\n  </tbody>\n</table>\n</div>"
     },
     "execution_count": 20,
     "metadata": {},
     "output_type": "execute_result"
    }
   ],
   "source": [
    "# 3.5 Постройте таблицу с подсчетом медианной стоимости домов в данных в зависимости от состояния дома и оценки дома\n",
    "\n",
    "pd.pivot_table(kc_house_data, index='condition', columns='grade', values='price', aggfunc='median')"
   ],
   "metadata": {
    "collapsed": false
   }
  }
 ],
 "metadata": {
  "kernelspec": {
   "display_name": "Python 3",
   "language": "python",
   "name": "python3"
  },
  "language_info": {
   "codemirror_mode": {
    "name": "ipython",
    "version": 2
   },
   "file_extension": ".py",
   "mimetype": "text/x-python",
   "name": "python",
   "nbconvert_exporter": "python",
   "pygments_lexer": "ipython2",
   "version": "2.7.6"
  }
 },
 "nbformat": 4,
 "nbformat_minor": 0
}
